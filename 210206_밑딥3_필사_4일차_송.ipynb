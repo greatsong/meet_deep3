{
  "nbformat": 4,
  "nbformat_minor": 0,
  "metadata": {
    "colab": {
      "name": "210206_밑딥3 필사 4일차_송.ipynb",
      "provenance": [],
      "collapsed_sections": [],
      "authorship_tag": "ABX9TyNaKW9mJYN2Ya2fo5kNqsmJ",
      "include_colab_link": true
    },
    "kernelspec": {
      "name": "python3",
      "display_name": "Python 3"
    }
  },
  "cells": [
    {
      "cell_type": "markdown",
      "metadata": {
        "id": "view-in-github",
        "colab_type": "text"
      },
      "source": [
        "<a href=\"https://colab.research.google.com/github/greatsong/meet_deep3/blob/main/210206_%EB%B0%91%EB%94%A53_%ED%95%84%EC%82%AC_4%EC%9D%BC%EC%B0%A8_%EC%86%A1.ipynb\" target=\"_parent\"><img src=\"https://colab.research.google.com/assets/colab-badge.svg\" alt=\"Open In Colab\"/></a>"
      ]
    },
    {
      "cell_type": "code",
      "metadata": {
        "id": "AKKd6-PrzlFE"
      },
      "source": [
        "# step 1"
      ],
      "execution_count": null,
      "outputs": []
    },
    {
      "cell_type": "code",
      "metadata": {
        "id": "H_SC3P-6wljr"
      },
      "source": [
        "class Variable : \n",
        "  def __init__(self, data) :\n",
        "    self.data = data"
      ],
      "execution_count": null,
      "outputs": []
    },
    {
      "cell_type": "code",
      "metadata": {
        "colab": {
          "base_uri": "https://localhost:8080/"
        },
        "id": "U1SEMWndw9ej",
        "outputId": "d442c5d9-ce5c-4d40-9ba2-f2244e2a95c6"
      },
      "source": [
        "import numpy as np\n",
        "data = np.array(1.0)\n",
        "x = Variable(data)\n",
        "print(x.data)"
      ],
      "execution_count": null,
      "outputs": [
        {
          "output_type": "stream",
          "text": [
            "1.0\n"
          ],
          "name": "stdout"
        }
      ]
    },
    {
      "cell_type": "code",
      "metadata": {
        "colab": {
          "base_uri": "https://localhost:8080/"
        },
        "id": "IfyvuBsKxFmG",
        "outputId": "495ec11c-0da1-4cc8-8ca3-939c3654f1be"
      },
      "source": [
        "x.data  = np.array(2)\n",
        "print(x.data)"
      ],
      "execution_count": null,
      "outputs": [
        {
          "output_type": "stream",
          "text": [
            "2\n"
          ],
          "name": "stdout"
        }
      ]
    },
    {
      "cell_type": "code",
      "metadata": {
        "colab": {
          "base_uri": "https://localhost:8080/"
        },
        "id": "To7FPpymxIzZ",
        "outputId": "7a10d865-2585-4186-dd54-06965de309b7"
      },
      "source": [
        "import numpy as np\n",
        "x = np.array(1)\n",
        "x.ndim"
      ],
      "execution_count": null,
      "outputs": [
        {
          "output_type": "execute_result",
          "data": {
            "text/plain": [
              "0"
            ]
          },
          "metadata": {
            "tags": []
          },
          "execution_count": 6
        }
      ]
    },
    {
      "cell_type": "code",
      "metadata": {
        "colab": {
          "base_uri": "https://localhost:8080/"
        },
        "id": "lvLuIssBxOsU",
        "outputId": "df7cbbbf-e71d-4be3-a35a-037174efc4d9"
      },
      "source": [
        "x = np.array([1,2,3])\n",
        "x.ndim"
      ],
      "execution_count": null,
      "outputs": [
        {
          "output_type": "execute_result",
          "data": {
            "text/plain": [
              "1"
            ]
          },
          "metadata": {
            "tags": []
          },
          "execution_count": 7
        }
      ]
    },
    {
      "cell_type": "code",
      "metadata": {
        "colab": {
          "base_uri": "https://localhost:8080/"
        },
        "id": "LwtCd-rExTBh",
        "outputId": "3a8b4315-ce2c-4134-f409-1627de409f96"
      },
      "source": [
        "x = np.array([[1,2,3],\n",
        "             [4,5,6]])\n",
        "x.ndim"
      ],
      "execution_count": null,
      "outputs": [
        {
          "output_type": "execute_result",
          "data": {
            "text/plain": [
              "2"
            ]
          },
          "metadata": {
            "tags": []
          },
          "execution_count": 9
        }
      ]
    },
    {
      "cell_type": "code",
      "metadata": {
        "id": "Ob6hg7IGxVtY"
      },
      "source": [
        "# step 2"
      ],
      "execution_count": null,
      "outputs": []
    },
    {
      "cell_type": "code",
      "metadata": {
        "id": "5MQTzieqznFS"
      },
      "source": [
        "class Function :\n",
        "  def __call__(self, input) : \n",
        "    x = input.data\n",
        "    y = x ** 2\n",
        "    output = Variable(y)\n",
        "    return output"
      ],
      "execution_count": null,
      "outputs": []
    },
    {
      "cell_type": "code",
      "metadata": {
        "id": "AH_NSWdHznIE"
      },
      "source": [
        "x = Variable(np.array(10))\n",
        "f = Function()\n",
        "y = f(x)"
      ],
      "execution_count": null,
      "outputs": []
    },
    {
      "cell_type": "code",
      "metadata": {
        "colab": {
          "base_uri": "https://localhost:8080/"
        },
        "id": "W13UXwJVznKu",
        "outputId": "818dd07a-d915-4d2c-bbcd-3a3766256957"
      },
      "source": [
        "print(type(y))\n",
        "print(y.data)"
      ],
      "execution_count": null,
      "outputs": [
        {
          "output_type": "stream",
          "text": [
            "<class '__main__.Variable'>\n",
            "100\n"
          ],
          "name": "stdout"
        }
      ]
    },
    {
      "cell_type": "code",
      "metadata": {
        "id": "rLAQ86FGznNV"
      },
      "source": [
        "class Function :\n",
        "  def __call__(self, input) : \n",
        "    x = input.data\n",
        "    y = self.forward(x)\n",
        "    output = Variable(y)\n",
        "    return output\n",
        "  def forward(self, x) :\n",
        "    raise NotImplementedError()"
      ],
      "execution_count": null,
      "outputs": []
    },
    {
      "cell_type": "code",
      "metadata": {
        "id": "SK4u-Oa4znP8"
      },
      "source": [
        "class Square(Function) :\n",
        "  def forward(self, x ) :\n",
        "    return x ** 2"
      ],
      "execution_count": null,
      "outputs": []
    },
    {
      "cell_type": "code",
      "metadata": {
        "colab": {
          "base_uri": "https://localhost:8080/"
        },
        "id": "IHoOP0mlznSM",
        "outputId": "82cc2e50-236d-4a0f-f70e-eb1cb448f43d"
      },
      "source": [
        "x = Variable(np.array(10))\n",
        "f = Square()\n",
        "y = f(x)\n",
        "print(type(y))\n",
        "print(y.data)"
      ],
      "execution_count": null,
      "outputs": [
        {
          "output_type": "stream",
          "text": [
            "<class '__main__.Variable'>\n",
            "100\n"
          ],
          "name": "stdout"
        }
      ]
    },
    {
      "cell_type": "code",
      "metadata": {
        "id": "LcERPSoCznUq"
      },
      "source": [
        "# step 3"
      ],
      "execution_count": null,
      "outputs": []
    },
    {
      "cell_type": "code",
      "metadata": {
        "id": "lvXCGiIrznXN"
      },
      "source": [
        "class Exp(Function) :\n",
        "  def forward(self, x) :\n",
        "    return np.exp(x)"
      ],
      "execution_count": null,
      "outputs": []
    },
    {
      "cell_type": "code",
      "metadata": {
        "colab": {
          "base_uri": "https://localhost:8080/"
        },
        "id": "0FbuYLLSznZf",
        "outputId": "b29e415e-ae00-4454-e20c-37581086ae61"
      },
      "source": [
        "A = Square()\n",
        "B = Exp()\n",
        "C = Square()\n",
        "\n",
        "x = Variable(np.array(0.5))\n",
        "a = A(x)\n",
        "b = B(a)\n",
        "y = C(b)\n",
        "\n",
        "print(y.data)"
      ],
      "execution_count": null,
      "outputs": [
        {
          "output_type": "stream",
          "text": [
            "1.648721270700128\n"
          ],
          "name": "stdout"
        }
      ]
    },
    {
      "cell_type": "code",
      "metadata": {
        "id": "5YVQFPiF0oJr"
      },
      "source": [
        "# step 4"
      ],
      "execution_count": null,
      "outputs": []
    },
    {
      "cell_type": "code",
      "metadata": {
        "id": "o8Le2mQM3gru"
      },
      "source": [
        "def numerical_diff(f, x, eps = 1e-4) :\n",
        "  x0 = Variable(x.data - eps)\n",
        "  x1 = Variable(x.data + eps)\n",
        "  y0 = f(x0)\n",
        "  y1 = f(x1)\n",
        "  return (y1.data - y0.data) / (2 * eps)"
      ],
      "execution_count": null,
      "outputs": []
    },
    {
      "cell_type": "code",
      "metadata": {
        "colab": {
          "base_uri": "https://localhost:8080/"
        },
        "id": "ldMDco7o3tu0",
        "outputId": "04d154be-2611-4815-da62-b6898f7ac8be"
      },
      "source": [
        "f = Square()\n",
        "x = Variable(np.array(2))\n",
        "dy = numerical_diff(f, x)\n",
        "print(dy)"
      ],
      "execution_count": null,
      "outputs": [
        {
          "output_type": "stream",
          "text": [
            "4.000000000004\n"
          ],
          "name": "stdout"
        }
      ]
    },
    {
      "cell_type": "code",
      "metadata": {
        "colab": {
          "base_uri": "https://localhost:8080/"
        },
        "id": "ELh8u8GB3ya3",
        "outputId": "9e999d6f-1d31-4030-f046-c46f2c59a656"
      },
      "source": [
        "def f(x) :\n",
        "  A = Square()\n",
        "  B = Exp()\n",
        "  C = Square()\n",
        "  return C(B(A(x)))\n",
        "\n",
        "x = Variable(np.array(0.5))\n",
        "dy = numerical_diff(f, x)\n",
        "print(dy)"
      ],
      "execution_count": null,
      "outputs": [
        {
          "output_type": "stream",
          "text": [
            "3.2974426293330694\n"
          ],
          "name": "stdout"
        }
      ]
    },
    {
      "cell_type": "code",
      "metadata": {
        "id": "qi0-2xI54Cuo"
      },
      "source": [
        "# step 5"
      ],
      "execution_count": null,
      "outputs": []
    },
    {
      "cell_type": "code",
      "metadata": {
        "id": "fQEB0vNb4I_3"
      },
      "source": [
        "# step 6"
      ],
      "execution_count": null,
      "outputs": []
    },
    {
      "cell_type": "code",
      "metadata": {
        "id": "XqPtDFmp4MSU"
      },
      "source": [
        "class Variable :\n",
        "  def __init__(self, data) : \n",
        "    self.data = data\n",
        "    self.grad = None"
      ],
      "execution_count": null,
      "outputs": []
    },
    {
      "cell_type": "code",
      "metadata": {
        "id": "unPaGHfr4TLb"
      },
      "source": [
        "class Function : \n",
        "  def __call__(self, input) : \n",
        "    x = input.data\n",
        "    y = self.forward(x)\n",
        "    output = Variable(y)\n",
        "    self.input = input\n",
        "    return output\n",
        "\n",
        "  def forward(self, x) :\n",
        "    raise NotImplementedError()\n",
        "\n",
        "  def backward(self, gy) :\n",
        "    raise NotImplementedError()"
      ],
      "execution_count": null,
      "outputs": []
    },
    {
      "cell_type": "code",
      "metadata": {
        "id": "FIT4CnHu4k_X"
      },
      "source": [
        "class Square(Function) :\n",
        "  def forward(self, x) :\n",
        "    y = x ** 2\n",
        "    return y\n",
        "\n",
        "  def backward(self, gy) :\n",
        "    x = self.input.data\n",
        "    gx = 2 * x * gy\n",
        "    return gx"
      ],
      "execution_count": null,
      "outputs": []
    },
    {
      "cell_type": "code",
      "metadata": {
        "id": "lMV-t5ZI4vlk"
      },
      "source": [
        "class Exp(Function) :\n",
        "  def forward(self, x) :\n",
        "    y = np.exp(x)\n",
        "    return y\n",
        "\n",
        "  def backward(self, gy) : \n",
        "    x = self.input.data\n",
        "    gx = np.exp(x) * gy\n",
        "    return gx"
      ],
      "execution_count": null,
      "outputs": []
    },
    {
      "cell_type": "code",
      "metadata": {
        "id": "LeQElsP_4_Ha"
      },
      "source": [
        "A = Square()\n",
        "B = Exp()\n",
        "C = Square()\n",
        "\n",
        "x = Variable(np.array(0.5))\n",
        "a = A(x)\n",
        "b = B(a)\n",
        "y = C(b)"
      ],
      "execution_count": null,
      "outputs": []
    },
    {
      "cell_type": "code",
      "metadata": {
        "colab": {
          "base_uri": "https://localhost:8080/"
        },
        "id": "AwH1Iqs95Fv3",
        "outputId": "aee5ab8b-7078-4396-833d-c58bc35d1203"
      },
      "source": [
        "y.grad = np.array(1)\n",
        "b.grad = C.backward(y.grad)\n",
        "a.grad = B.backward(b.grad)\n",
        "x.grad = A.backward(a.grad)\n",
        "\n",
        "print(x.grad)"
      ],
      "execution_count": null,
      "outputs": [
        {
          "output_type": "stream",
          "text": [
            "3.297442541400256\n"
          ],
          "name": "stdout"
        }
      ]
    },
    {
      "cell_type": "code",
      "metadata": {
        "id": "NpIpAQZe5S7G"
      },
      "source": [
        "# step 7"
      ],
      "execution_count": null,
      "outputs": []
    },
    {
      "cell_type": "code",
      "metadata": {
        "id": "UgKx5shI5xT4"
      },
      "source": [
        "class Variable :\n",
        "  def __init__(self, data) : \n",
        "    self.data = data\n",
        "    self.grad = None\n",
        "    self.creator = None\n",
        "\n",
        "  def set_creator(self, func) :\n",
        "    self.creator = func"
      ],
      "execution_count": null,
      "outputs": []
    },
    {
      "cell_type": "code",
      "metadata": {
        "id": "NyXm6CO555bj"
      },
      "source": [
        "class Function : \n",
        "  def __call__(self, input) : \n",
        "    x = input.data\n",
        "    y = self.forward(x)\n",
        "    output = Variable(y)\n",
        "    output.set_creator(self)\n",
        "    self.input = input\n",
        "    self.output = output\n",
        "    return output\n",
        "\n",
        "  def forward(self, x) :\n",
        "    raise NotImplementedError()\n",
        "\n",
        "  def backward(self, gy) :\n",
        "    raise NotImplementedError()"
      ],
      "execution_count": null,
      "outputs": []
    },
    {
      "cell_type": "code",
      "metadata": {
        "id": "2n0hbA2F6MWP"
      },
      "source": [
        "# 그냥 실행하면 오류가 발생 / 왜냐하면 스퀘어, 지수 함수가 업데이트 안되어서!\n",
        "A = Square()\n",
        "B = Exp()\n",
        "C = Square()\n",
        "\n",
        "x = Variable(np.array(0.5))\n",
        "a = A(x)\n",
        "b = B(a)\n",
        "y = C(b)"
      ],
      "execution_count": null,
      "outputs": []
    },
    {
      "cell_type": "code",
      "metadata": {
        "id": "Blkmh6uQ6Sye"
      },
      "source": [
        "assert y.creator == C"
      ],
      "execution_count": null,
      "outputs": []
    },
    {
      "cell_type": "code",
      "metadata": {
        "colab": {
          "base_uri": "https://localhost:8080/"
        },
        "id": "x54-TDyr6U_N",
        "outputId": "a8854880-f08e-406e-8624-cde7d7da68ed"
      },
      "source": [
        "print(a.creator)"
      ],
      "execution_count": null,
      "outputs": [
        {
          "output_type": "stream",
          "text": [
            "<__main__.Square object at 0x7f51c8a075f8>\n"
          ],
          "name": "stdout"
        }
      ]
    },
    {
      "cell_type": "code",
      "metadata": {
        "id": "mDpuh5Ql6dVi"
      },
      "source": [
        "y.grad = np.array(1)\n",
        "\n",
        "C = y.creator\n",
        "b = C.input\n",
        "b.grad = C.backward(y.grad)"
      ],
      "execution_count": null,
      "outputs": []
    },
    {
      "cell_type": "code",
      "metadata": {
        "id": "BrHHylei7Vxy"
      },
      "source": [
        "B = b.creator\n",
        "a = B.input\n",
        "a.grad = B.backward(b.grad)"
      ],
      "execution_count": null,
      "outputs": []
    },
    {
      "cell_type": "code",
      "metadata": {
        "colab": {
          "base_uri": "https://localhost:8080/"
        },
        "id": "QXmXWDbB7wtF",
        "outputId": "0eb9e8db-0be8-49af-f614-5c84832e1a30"
      },
      "source": [
        "A = a.creator\n",
        "x = A.input\n",
        "x.grad = A.backward(a.grad)\n",
        "print(x.grad)"
      ],
      "execution_count": null,
      "outputs": [
        {
          "output_type": "stream",
          "text": [
            "3.297442541400256\n"
          ],
          "name": "stdout"
        }
      ]
    },
    {
      "cell_type": "code",
      "metadata": {
        "id": "XfzaHyf872jR"
      },
      "source": [
        "class Variable :\n",
        "  def __init__(self, data) : \n",
        "    self.data = data\n",
        "    self.grad = None\n",
        "    self.creator = None\n",
        "\n",
        "  def set_creator(self, func) :\n",
        "    self.creator = func\n",
        "\n",
        "  def backward(self) :\n",
        "    f = self.creator\n",
        "    if f is not None : \n",
        "      x = f.input\n",
        "      x.grad = f.backward(self.grad)\n",
        "      # 중간 과정 확인하기 위한 print 추가\n",
        "      print(f, x.grad)\n",
        "      x.backward()"
      ],
      "execution_count": null,
      "outputs": []
    },
    {
      "cell_type": "code",
      "metadata": {
        "colab": {
          "base_uri": "https://localhost:8080/"
        },
        "id": "A7f47AvF8OqX",
        "outputId": "4b21b766-f1a5-4280-f05f-fd0c58a6d6d2"
      },
      "source": [
        "A = Square()\n",
        "B = Exp()\n",
        "C = Square()\n",
        "\n",
        "x = Variable(np.array(0.5))\n",
        "a = A(x)\n",
        "b = B(a)\n",
        "y = C(b)\n",
        "\n",
        "y.grad = np.array(1)\n",
        "y.backward()\n",
        "print(x.grad)"
      ],
      "execution_count": null,
      "outputs": [
        {
          "output_type": "stream",
          "text": [
            "<__main__.Square object at 0x7f51c8a07390> 2.568050833375483\n",
            "<__main__.Exp object at 0x7f51c8a071d0> 3.297442541400256\n",
            "<__main__.Square object at 0x7f51c8a07240> 3.297442541400256\n",
            "3.297442541400256\n"
          ],
          "name": "stdout"
        }
      ]
    },
    {
      "cell_type": "code",
      "metadata": {
        "id": "KDb7rQoc8ZcY"
      },
      "source": [
        "# step 8"
      ],
      "execution_count": null,
      "outputs": []
    },
    {
      "cell_type": "code",
      "metadata": {
        "id": "qdTiIpSSBKl_"
      },
      "source": [
        "class Variable :\n",
        "  def __init__(self, data) : \n",
        "    self.data = data\n",
        "    self.grad = None\n",
        "    self.creator = None\n",
        "\n",
        "  def set_creator(self, func) :\n",
        "    self.creator = func\n",
        "\n",
        "  def backward(self) :\n",
        "    funcs = [self.creator]\n",
        "    while funcs :\n",
        "      f = funcs.pop()\n",
        "      print(f, funcs)\n",
        "      x, y = f.input, f.output\n",
        "      x.grad = f.backward(y.grad)\n",
        "\n",
        "      if x.creator is not None : \n",
        "        funcs.append(x.creator)\n",
        "      # 중간 과정 확인하기 위한 print 추가"
      ],
      "execution_count": null,
      "outputs": []
    },
    {
      "cell_type": "code",
      "metadata": {
        "colab": {
          "base_uri": "https://localhost:8080/"
        },
        "id": "Mwj5Oys2BrKB",
        "outputId": "a34878ec-9a3d-487a-92b2-ef12ceb546ec"
      },
      "source": [
        "A = Square()\n",
        "B = Exp()\n",
        "C = Square()\n",
        "\n",
        "x = Variable(np.array(0.5))\n",
        "a = A(x)\n",
        "b = B(a)\n",
        "y = C(b)\n",
        "\n",
        "y.grad = np.array(1)\n",
        "y.backward()\n",
        "print(x.grad)"
      ],
      "execution_count": null,
      "outputs": [
        {
          "output_type": "stream",
          "text": [
            "<__main__.Square object at 0x7f51c89d2f28> []\n",
            "<__main__.Exp object at 0x7f51c89d29b0> []\n",
            "<__main__.Square object at 0x7f51c89d2198> []\n",
            "3.297442541400256\n"
          ],
          "name": "stdout"
        }
      ]
    },
    {
      "cell_type": "code",
      "metadata": {
        "id": "HuxaAVhsBtKk"
      },
      "source": [
        "# step 9"
      ],
      "execution_count": null,
      "outputs": []
    },
    {
      "cell_type": "code",
      "metadata": {
        "id": "cd66UZqL6X_s"
      },
      "source": [
        "import numpy as np"
      ],
      "execution_count": null,
      "outputs": []
    },
    {
      "cell_type": "code",
      "metadata": {
        "id": "9Fx-QVlEDI0j"
      },
      "source": [
        "def square(x) :\n",
        "  f = Square()\n",
        "  return f(x)\n",
        "\n",
        "def exp(x) :\n",
        "  f = Exp()\n",
        "  return f(x)"
      ],
      "execution_count": null,
      "outputs": []
    },
    {
      "cell_type": "code",
      "metadata": {
        "id": "2QRsc6UW6BFn"
      },
      "source": [
        "def square(x) :\n",
        "  return Square()(x)\n",
        "\n",
        "def exp(x) :\n",
        "  return Exp()(x)\n"
      ],
      "execution_count": 12,
      "outputs": []
    },
    {
      "cell_type": "code",
      "metadata": {
        "id": "KOgbNG626I6P"
      },
      "source": [
        "class Function : \n",
        "  def __call__(self, input) : \n",
        "    x = input.data\n",
        "    y = self.forward(x)\n",
        "    output = Variable(y)\n",
        "    output.set_creator(self)\n",
        "    self.input = input\n",
        "    self.output = output\n",
        "    return output\n",
        "\n",
        "  def forward(self, x) :\n",
        "    raise NotImplementedError()\n",
        "\n",
        "  def backward(self, gy) :\n",
        "    raise NotImplementedError()"
      ],
      "execution_count": null,
      "outputs": []
    },
    {
      "cell_type": "code",
      "metadata": {
        "id": "JlEX0X0I6NMr"
      },
      "source": [
        "class Variable :\n",
        "  def __init__(self, data) : \n",
        "    self.data = data\n",
        "    self.grad = None\n",
        "    self.creator = None\n",
        "\n",
        "  def set_creator(self, func) :\n",
        "    self.creator = func\n",
        "\n",
        "  def backward(self) :\n",
        "    funcs = [self.creator]\n",
        "    while funcs :\n",
        "      f = funcs.pop()\n",
        "      print(f, funcs)\n",
        "      x, y = f.input, f.output\n",
        "      x.grad = f.backward(y.grad)\n",
        "\n",
        "      if x.creator is not None : \n",
        "        funcs.append(x.creator)\n",
        "      # 중간 과정 확인하기 위한 print 추가"
      ],
      "execution_count": null,
      "outputs": []
    },
    {
      "cell_type": "code",
      "metadata": {
        "id": "BPL7qCwj6jEr"
      },
      "source": [
        "class Square(Function) :\n",
        "  def forward(self, x) :\n",
        "    y = x ** 2\n",
        "    return y\n",
        "\n",
        "  def backward(self, gy) :\n",
        "    x = self.input.data\n",
        "    gx = 2 * x * gy\n",
        "    return gx"
      ],
      "execution_count": null,
      "outputs": []
    },
    {
      "cell_type": "code",
      "metadata": {
        "id": "ruc2SxN86jHc"
      },
      "source": [
        "class Exp(Function) :\n",
        "  def forward(self, x) :\n",
        "    y = np.exp(x)\n",
        "    return y\n",
        "\n",
        "  def backward(self, gy) : \n",
        "    x = self.input.data\n",
        "    gx = np.exp(x) * gy\n",
        "    return gx"
      ],
      "execution_count": null,
      "outputs": []
    },
    {
      "cell_type": "code",
      "metadata": {
        "colab": {
          "base_uri": "https://localhost:8080/"
        },
        "id": "aP2xNJXj6OkR",
        "outputId": "988fb38c-c9e6-475f-ec79-67b5f762dad7"
      },
      "source": [
        "x = Variable(np.array(0.5))\n",
        "a = square(x)\n",
        "b = exp(a)\n",
        "y = square(b)\n",
        "\n",
        "y.grad = np.array(1)\n",
        "y.backward()\n",
        "print(x.grad)"
      ],
      "execution_count": null,
      "outputs": [
        {
          "output_type": "stream",
          "text": [
            "<__main__.Square object at 0x7fa582af7128> []\n",
            "<__main__.Exp object at 0x7fa582af7080> []\n",
            "<__main__.Square object at 0x7fa582af7b70> []\n",
            "3.297442541400256\n"
          ],
          "name": "stdout"
        }
      ]
    },
    {
      "cell_type": "code",
      "metadata": {
        "colab": {
          "base_uri": "https://localhost:8080/"
        },
        "id": "wUixin9c6V0E",
        "outputId": "1b0f7e05-6fdb-40ac-f49a-df80bf95c4de"
      },
      "source": [
        "x = Variable(np.array(0.5))\n",
        "y = square(exp(square(x)))\n",
        "y.grad = np.array(1)\n",
        "y.backward()\n",
        "print(x.grad)"
      ],
      "execution_count": null,
      "outputs": [
        {
          "output_type": "stream",
          "text": [
            "<__main__.Square object at 0x7fa582b83d68> []\n",
            "<__main__.Exp object at 0x7fa582af7208> []\n",
            "<__main__.Square object at 0x7fa582af7470> []\n",
            "3.297442541400256\n"
          ],
          "name": "stdout"
        }
      ]
    },
    {
      "cell_type": "code",
      "metadata": {
        "id": "uJibJrYf6vw2"
      },
      "source": [
        "class Variable :\n",
        "  def __init__(self, data) : \n",
        "    if data is not None : \n",
        "      if not isinstance(data, np.ndarray) :\n",
        "        #raise TypeError('{}은 지원하지 않습니다.'.format(type(data)))\n",
        "        raise TypeError(f'{data} {type(data)}은 지원하지 않습니다.')\n",
        "    self.data = data\n",
        "    self.grad = None\n",
        "    self.creator = None\n",
        "\n",
        "  def set_creator(self, func) :\n",
        "    self.creator = func\n",
        "\n",
        "  def backward(self) :\n",
        "    if self.grad is None :\n",
        "      self.grad = np.ones_like(self.data)\n",
        "      print('np.ones_like print', self.grad)\n",
        "\n",
        "    funcs = [self.creator]\n",
        "    while funcs :\n",
        "      f = funcs.pop()\n",
        "      print(f, funcs)\n",
        "      x, y = f.input, f.output\n",
        "      x.grad = f.backward(y.grad)\n",
        "\n",
        "      if x.creator is not None : \n",
        "        funcs.append(x.creator)\n",
        "      # 중간 과정 확인하기 위한 print 추가"
      ],
      "execution_count": null,
      "outputs": []
    },
    {
      "cell_type": "code",
      "metadata": {
        "colab": {
          "base_uri": "https://localhost:8080/",
          "height": 317
        },
        "id": "vGXj35Cj75jW",
        "outputId": "f109a081-345a-4594-e9ed-da7a5f3330ec"
      },
      "source": [
        "x = Variable(np.array(1))\n",
        "x = Variable(None)\n",
        "x = Variable(1)"
      ],
      "execution_count": null,
      "outputs": [
        {
          "output_type": "error",
          "ename": "TypeError",
          "evalue": "ignored",
          "traceback": [
            "\u001b[0;31m---------------------------------------------------------------------------\u001b[0m",
            "\u001b[0;31mTypeError\u001b[0m                                 Traceback (most recent call last)",
            "\u001b[0;32m<ipython-input-25-dc2c3339d38c>\u001b[0m in \u001b[0;36m<module>\u001b[0;34m()\u001b[0m\n\u001b[1;32m      1\u001b[0m \u001b[0mx\u001b[0m \u001b[0;34m=\u001b[0m \u001b[0mVariable\u001b[0m\u001b[0;34m(\u001b[0m\u001b[0mnp\u001b[0m\u001b[0;34m.\u001b[0m\u001b[0marray\u001b[0m\u001b[0;34m(\u001b[0m\u001b[0;36m1\u001b[0m\u001b[0;34m)\u001b[0m\u001b[0;34m)\u001b[0m\u001b[0;34m\u001b[0m\u001b[0;34m\u001b[0m\u001b[0m\n\u001b[1;32m      2\u001b[0m \u001b[0mx\u001b[0m \u001b[0;34m=\u001b[0m \u001b[0mVariable\u001b[0m\u001b[0;34m(\u001b[0m\u001b[0;32mNone\u001b[0m\u001b[0;34m)\u001b[0m\u001b[0;34m\u001b[0m\u001b[0;34m\u001b[0m\u001b[0m\n\u001b[0;32m----> 3\u001b[0;31m \u001b[0mx\u001b[0m \u001b[0;34m=\u001b[0m \u001b[0mVariable\u001b[0m\u001b[0;34m(\u001b[0m\u001b[0;36m1\u001b[0m\u001b[0;34m)\u001b[0m\u001b[0;34m\u001b[0m\u001b[0;34m\u001b[0m\u001b[0m\n\u001b[0m",
            "\u001b[0;32m<ipython-input-18-b10a2732bff0>\u001b[0m in \u001b[0;36m__init__\u001b[0;34m(self, data)\u001b[0m\n\u001b[1;32m      4\u001b[0m       \u001b[0;32mif\u001b[0m \u001b[0;32mnot\u001b[0m \u001b[0misinstance\u001b[0m\u001b[0;34m(\u001b[0m\u001b[0mdata\u001b[0m\u001b[0;34m,\u001b[0m \u001b[0mnp\u001b[0m\u001b[0;34m.\u001b[0m\u001b[0mndarray\u001b[0m\u001b[0;34m)\u001b[0m \u001b[0;34m:\u001b[0m\u001b[0;34m\u001b[0m\u001b[0;34m\u001b[0m\u001b[0m\n\u001b[1;32m      5\u001b[0m         \u001b[0;31m#raise TypeError('{}은 지원하지 않습니다.'.format(type(data)))\u001b[0m\u001b[0;34m\u001b[0m\u001b[0;34m\u001b[0m\u001b[0;34m\u001b[0m\u001b[0m\n\u001b[0;32m----> 6\u001b[0;31m         \u001b[0;32mraise\u001b[0m \u001b[0mTypeError\u001b[0m\u001b[0;34m(\u001b[0m\u001b[0;34mf'{type(data)}은 지원하지 않습니다.'\u001b[0m\u001b[0;34m)\u001b[0m\u001b[0;34m\u001b[0m\u001b[0;34m\u001b[0m\u001b[0m\n\u001b[0m\u001b[1;32m      7\u001b[0m     \u001b[0mself\u001b[0m\u001b[0;34m.\u001b[0m\u001b[0mdata\u001b[0m \u001b[0;34m=\u001b[0m \u001b[0mdata\u001b[0m\u001b[0;34m\u001b[0m\u001b[0;34m\u001b[0m\u001b[0m\n\u001b[1;32m      8\u001b[0m     \u001b[0mself\u001b[0m\u001b[0;34m.\u001b[0m\u001b[0mgrad\u001b[0m \u001b[0;34m=\u001b[0m \u001b[0;32mNone\u001b[0m\u001b[0;34m\u001b[0m\u001b[0;34m\u001b[0m\u001b[0m\n",
            "\u001b[0;31mTypeError\u001b[0m: <class 'int'>은 지원하지 않습니다."
          ]
        }
      ]
    },
    {
      "cell_type": "code",
      "metadata": {
        "colab": {
          "base_uri": "https://localhost:8080/",
          "height": 283
        },
        "id": "I0VQ-eBn8H4o",
        "outputId": "31dd337c-cfee-4f0b-aaa5-0c2673902ee9"
      },
      "source": [
        "x = Variable(1.0)"
      ],
      "execution_count": null,
      "outputs": [
        {
          "output_type": "error",
          "ename": "TypeError",
          "evalue": "ignored",
          "traceback": [
            "\u001b[0;31m---------------------------------------------------------------------------\u001b[0m",
            "\u001b[0;31mTypeError\u001b[0m                                 Traceback (most recent call last)",
            "\u001b[0;32m<ipython-input-21-73d504647026>\u001b[0m in \u001b[0;36m<module>\u001b[0;34m()\u001b[0m\n\u001b[0;32m----> 1\u001b[0;31m \u001b[0mx\u001b[0m \u001b[0;34m=\u001b[0m \u001b[0mVariable\u001b[0m\u001b[0;34m(\u001b[0m\u001b[0;36m1.0\u001b[0m\u001b[0;34m)\u001b[0m\u001b[0;34m\u001b[0m\u001b[0;34m\u001b[0m\u001b[0m\n\u001b[0m",
            "\u001b[0;32m<ipython-input-18-b10a2732bff0>\u001b[0m in \u001b[0;36m__init__\u001b[0;34m(self, data)\u001b[0m\n\u001b[1;32m      4\u001b[0m       \u001b[0;32mif\u001b[0m \u001b[0;32mnot\u001b[0m \u001b[0misinstance\u001b[0m\u001b[0;34m(\u001b[0m\u001b[0mdata\u001b[0m\u001b[0;34m,\u001b[0m \u001b[0mnp\u001b[0m\u001b[0;34m.\u001b[0m\u001b[0mndarray\u001b[0m\u001b[0;34m)\u001b[0m \u001b[0;34m:\u001b[0m\u001b[0;34m\u001b[0m\u001b[0;34m\u001b[0m\u001b[0m\n\u001b[1;32m      5\u001b[0m         \u001b[0;31m#raise TypeError('{}은 지원하지 않습니다.'.format(type(data)))\u001b[0m\u001b[0;34m\u001b[0m\u001b[0;34m\u001b[0m\u001b[0;34m\u001b[0m\u001b[0m\n\u001b[0;32m----> 6\u001b[0;31m         \u001b[0;32mraise\u001b[0m \u001b[0mTypeError\u001b[0m\u001b[0;34m(\u001b[0m\u001b[0;34mf'{type(data)}은 지원하지 않습니다.'\u001b[0m\u001b[0;34m)\u001b[0m\u001b[0;34m\u001b[0m\u001b[0;34m\u001b[0m\u001b[0m\n\u001b[0m\u001b[1;32m      7\u001b[0m     \u001b[0mself\u001b[0m\u001b[0;34m.\u001b[0m\u001b[0mdata\u001b[0m \u001b[0;34m=\u001b[0m \u001b[0mdata\u001b[0m\u001b[0;34m\u001b[0m\u001b[0;34m\u001b[0m\u001b[0m\n\u001b[1;32m      8\u001b[0m     \u001b[0mself\u001b[0m\u001b[0;34m.\u001b[0m\u001b[0mgrad\u001b[0m \u001b[0;34m=\u001b[0m \u001b[0;32mNone\u001b[0m\u001b[0;34m\u001b[0m\u001b[0;34m\u001b[0m\u001b[0m\n",
            "\u001b[0;31mTypeError\u001b[0m: <class 'float'>은 지원하지 않습니다."
          ]
        }
      ]
    },
    {
      "cell_type": "code",
      "metadata": {
        "id": "xW3_GNAg7BU9"
      },
      "source": [
        "# 0.5는 ndarray가 아니므로 오류 발생. 따라서 리스트에 값을 넣어주어야 함\n",
        "x = Variable(np.array([0.5]))"
      ],
      "execution_count": null,
      "outputs": []
    },
    {
      "cell_type": "code",
      "metadata": {
        "colab": {
          "base_uri": "https://localhost:8080/"
        },
        "id": "JSBCSyjD7EEB",
        "outputId": "da24a2d8-a66d-4273-8cb5-9f15072917d6"
      },
      "source": [
        "y = square(exp(square(x)))\n",
        "y.backward()\n",
        "print(x.grad)"
      ],
      "execution_count": null,
      "outputs": [
        {
          "output_type": "stream",
          "text": [
            "np.ones_like print [1.]\n",
            "<__main__.Square object at 0x7fa57ad227f0> []\n",
            "<__main__.Exp object at 0x7fa582af7198> []\n",
            "<__main__.Square object at 0x7fa582af70b8> []\n",
            "[3.29744254]\n"
          ],
          "name": "stdout"
        }
      ]
    },
    {
      "cell_type": "code",
      "metadata": {
        "colab": {
          "base_uri": "https://localhost:8080/"
        },
        "id": "vJYTUMd68eii",
        "outputId": "66b956e7-9aee-426f-f573-d4438a781ad9"
      },
      "source": [
        "x = np.array([1.0])\n",
        "y = x ** 2\n",
        "print(type(x), x.ndim)\n",
        "print(type(y))"
      ],
      "execution_count": null,
      "outputs": [
        {
          "output_type": "stream",
          "text": [
            "<class 'numpy.ndarray'> 1\n",
            "<class 'numpy.ndarray'>\n"
          ],
          "name": "stdout"
        }
      ]
    },
    {
      "cell_type": "code",
      "metadata": {
        "colab": {
          "base_uri": "https://localhost:8080/"
        },
        "id": "SN68-yKC9VXa",
        "outputId": "cef92b43-a905-4ea7-a17a-d913ebab569b"
      },
      "source": [
        "x = np.array(1.0)\n",
        "y = x ** 2\n",
        "print(type(x), x.ndim)\n",
        "print(type(y))"
      ],
      "execution_count": null,
      "outputs": [
        {
          "output_type": "stream",
          "text": [
            "<class 'numpy.ndarray'> 0\n",
            "<class 'numpy.float64'>\n"
          ],
          "name": "stdout"
        }
      ]
    },
    {
      "cell_type": "code",
      "metadata": {
        "id": "vvfv_jTu9diD"
      },
      "source": [
        "def as_array(x) :\n",
        "  if np.isscalar(x) :\n",
        "    return np.array(x)\n",
        "  return x"
      ],
      "execution_count": null,
      "outputs": []
    },
    {
      "cell_type": "code",
      "metadata": {
        "colab": {
          "base_uri": "https://localhost:8080/"
        },
        "id": "ILvtGyNs-DFl",
        "outputId": "02acbd51-6e04-40f9-d353-deb7c7406aa0"
      },
      "source": [
        "np.isscalar(1)"
      ],
      "execution_count": null,
      "outputs": [
        {
          "output_type": "execute_result",
          "data": {
            "text/plain": [
              "True"
            ]
          },
          "metadata": {
            "tags": []
          },
          "execution_count": 38
        }
      ]
    },
    {
      "cell_type": "code",
      "metadata": {
        "colab": {
          "base_uri": "https://localhost:8080/"
        },
        "id": "nIbY8iek-IX2",
        "outputId": "48466e52-83e1-4b39-d917-24ffa163e616"
      },
      "source": [
        "np.isscalar(np.float64(1.0))"
      ],
      "execution_count": null,
      "outputs": [
        {
          "output_type": "execute_result",
          "data": {
            "text/plain": [
              "True"
            ]
          },
          "metadata": {
            "tags": []
          },
          "execution_count": 39
        }
      ]
    },
    {
      "cell_type": "code",
      "metadata": {
        "colab": {
          "base_uri": "https://localhost:8080/"
        },
        "id": "4UzUDEc9-Lbh",
        "outputId": "3b209f28-14ed-4960-a395-0e634fbf1f5d"
      },
      "source": [
        "np.isscalar(np.array(1))"
      ],
      "execution_count": null,
      "outputs": [
        {
          "output_type": "execute_result",
          "data": {
            "text/plain": [
              "False"
            ]
          },
          "metadata": {
            "tags": []
          },
          "execution_count": 40
        }
      ]
    },
    {
      "cell_type": "code",
      "metadata": {
        "id": "iWyUiPOS-P1e"
      },
      "source": [
        "class Function : \n",
        "  def __call__(self, input) : \n",
        "    x = input.data\n",
        "    y = self.forward(x)\n",
        "    output = Variable(as_array(y))\n",
        "    output.set_creator(self)\n",
        "    self.input = input\n",
        "    self.output = output\n",
        "    return output\n",
        "\n",
        "  def forward(self, x) :\n",
        "    raise NotImplementedError()\n",
        "\n",
        "  def backward(self, gy) :\n",
        "    raise NotImplementedError()"
      ],
      "execution_count": null,
      "outputs": []
    },
    {
      "cell_type": "code",
      "metadata": {
        "id": "x6HMNyUJ-X8x"
      },
      "source": [
        "# step 10 Unit Test!"
      ],
      "execution_count": null,
      "outputs": []
    },
    {
      "cell_type": "code",
      "metadata": {
        "colab": {
          "base_uri": "https://localhost:8080/"
        },
        "id": "9hVq08MB_570",
        "outputId": "12365cd4-b416-4c7f-b63e-2826189ca9d0"
      },
      "source": [
        "import unittest\n",
        "\n",
        "class SquareTest(unittest.TestCase) :\n",
        "  def test_forward(self) :\n",
        "    x = Variable(np.array([2.0]))\n",
        "    y = square(x)\n",
        "    expected = np.array([4.0])\n",
        "    self.assertEqual(y.data, expected)\n",
        "\n",
        "  def test_backward(self) :\n",
        "    x = Variable(np.array([3.0]))\n",
        "    y = square(x)\n",
        "    y.backward()\n",
        "    expected = np.array([6.0])\n",
        "    self.assertEqual(x.grad, expected)\n",
        "\n",
        "# 테스트하기 위한 코드\n",
        "if __name__ == '__main__':\n",
        "    unittest.main(argv=['first-arg-is-ignored'], exit=False)\n"
      ],
      "execution_count": null,
      "outputs": [
        {
          "output_type": "stream",
          "text": [
            ".."
          ],
          "name": "stderr"
        },
        {
          "output_type": "stream",
          "text": [
            "np.ones_like print [1.]\n",
            "<__main__.Square object at 0x7fa57ad17240> []\n"
          ],
          "name": "stdout"
        },
        {
          "output_type": "stream",
          "text": [
            "\n",
            "----------------------------------------------------------------------\n",
            "Ran 2 tests in 0.011s\n",
            "\n",
            "OK\n"
          ],
          "name": "stderr"
        }
      ]
    },
    {
      "cell_type": "code",
      "metadata": {
        "id": "IAuG7HtzALAO"
      },
      "source": [
        "def numerical_diff(f, x, eps = 1e-4) :\n",
        "  x0 = Variable(x.data - eps)\n",
        "  x1 = Variable(x.data + eps)\n",
        "  y0 = f(x0)\n",
        "  y1 = f(x1)\n",
        "  return (y1.data - y0.data) / (2 * eps)"
      ],
      "execution_count": null,
      "outputs": []
    },
    {
      "cell_type": "code",
      "metadata": {
        "colab": {
          "base_uri": "https://localhost:8080/"
        },
        "id": "3Oq3j6LWAYK5",
        "outputId": "266a5122-8518-44ca-ea75-4e6450298186"
      },
      "source": [
        "import unittest\n",
        "\n",
        "class SquareTest(unittest.TestCase) :\n",
        "  def test_forward(self) :\n",
        "    x = Variable(np.array([2.0]))\n",
        "    y = square(x)\n",
        "    expected = np.array([4.0])\n",
        "    self.assertEqual(y.data, expected)\n",
        "\n",
        "  def test_backward(self) :\n",
        "    x = Variable(np.array([3.0]))\n",
        "    y = square(x)\n",
        "    y.backward()\n",
        "    expected = np.array([6.0])\n",
        "    self.assertEqual(x.grad, expected)\n",
        "\n",
        "  def test_gradient_check(self) :\n",
        "    x = Variable(np.random.rand(1))\n",
        "    y = square(x)\n",
        "    y.backward()\n",
        "    num_grad= numerical_diff(square, x)\n",
        "    flg = np.allclose(x.grad, num_grad)\n",
        "    self.assertTrue(flg)\n",
        "\n",
        "# 테스트하기 위한 코드\n",
        "if __name__ == '__main__':\n",
        "    unittest.main(argv=['first-arg-is-ignored'], exit=False)\n"
      ],
      "execution_count": null,
      "outputs": [
        {
          "output_type": "stream",
          "text": [
            "..."
          ],
          "name": "stderr"
        },
        {
          "output_type": "stream",
          "text": [
            "np.ones_like print [1.]\n",
            "<__main__.Square object at 0x7fa57acab080> []\n",
            "np.ones_like print [1.]\n",
            "<__main__.Square object at 0x7fa57acabe80> []\n"
          ],
          "name": "stdout"
        },
        {
          "output_type": "stream",
          "text": [
            "\n",
            "----------------------------------------------------------------------\n",
            "Ran 3 tests in 0.008s\n",
            "\n",
            "OK\n"
          ],
          "name": "stderr"
        }
      ]
    },
    {
      "cell_type": "code",
      "metadata": {
        "id": "WgSw0xy3HNNC"
      },
      "source": [
        "# step 11"
      ],
      "execution_count": null,
      "outputs": []
    },
    {
      "cell_type": "code",
      "metadata": {
        "id": "xA5f4jOlHtYT"
      },
      "source": [
        "class Variable :\n",
        "  def __init__(self, data) : \n",
        "    if data is not None : \n",
        "      if not isinstance(data, np.ndarray) :\n",
        "        #raise TypeError('{}은 지원하지 않습니다.'.format(type(data)))\n",
        "        raise TypeError(f'{data} {type(data)}은 지원하지 않습니다.')\n",
        "    self.data = data\n",
        "    self.grad = None\n",
        "    self.creator = None\n",
        "\n",
        "  def set_creator(self, func) :\n",
        "    self.creator = func\n",
        "\n",
        "  def backward(self) :\n",
        "    if self.grad is None :\n",
        "      self.grad = np.ones_like(self.data)\n",
        "      print('np.ones_like print', self.grad)\n",
        "\n",
        "    funcs = [self.creator]\n",
        "    while funcs :\n",
        "      f = funcs.pop()\n",
        "      print(f, funcs)\n",
        "      x, y = f.input, f.output\n",
        "      x.grad = f.backward(y.grad)\n",
        "\n",
        "      if x.creator is not None : \n",
        "        funcs.append(x.creator)\n",
        "      # 중간 과정 확인하기 위한 print 추가"
      ],
      "execution_count": null,
      "outputs": []
    },
    {
      "cell_type": "code",
      "metadata": {
        "id": "hBWUPYtBHtak"
      },
      "source": [
        "def as_array(x) :\n",
        "  if np.isscalar(x) :\n",
        "    return np.array(x)\n",
        "  return x\n",
        "\n",
        "def add(x0, x1) :\n",
        "  return Add()(x0, x1)\n",
        "\n",
        "def square(x) :\n",
        "  return Square()(x)\n",
        "\n",
        "def exp(x) :\n",
        "  return Exp()(x)\n"
      ],
      "execution_count": 18,
      "outputs": []
    },
    {
      "cell_type": "code",
      "metadata": {
        "id": "ZjR08EULHjq5"
      },
      "source": [
        "\n",
        "# 다중 입력, 다중 출력을 위해 클래스 수정\n",
        "class Function : \n",
        "  def __call__(self, inputs) : \n",
        "    xs = [x.data for x in inputs]\n",
        "    ys = self.forward(xs)\n",
        "    outputs = [Variable(as_array(y)) for y in ys]\n",
        "    for output in outputs : \n",
        "      output.set_creator(self)\n",
        "    self.inputs = inputs\n",
        "    self.outputs = outputs\n",
        "    return output\n",
        "\n",
        "  def forward(self, xs) :\n",
        "    raise NotImplementedError()\n",
        "\n",
        "  def backward(self, gys) :\n",
        "    raise NotImplementedError()"
      ],
      "execution_count": null,
      "outputs": []
    },
    {
      "cell_type": "code",
      "metadata": {
        "id": "lq0V0gmlIA-c"
      },
      "source": [
        "class Add(Function) :\n",
        "  def forward(self, xs) :\n",
        "    x0, x1 = xs\n",
        "    y = x0 + x1\n",
        "    return y,"
      ],
      "execution_count": null,
      "outputs": []
    },
    {
      "cell_type": "code",
      "metadata": {
        "colab": {
          "base_uri": "https://localhost:8080/"
        },
        "id": "XLRqCUOaI4Ac",
        "outputId": "d676670d-eab9-4a91-9b25-46ec40c38d92"
      },
      "source": [
        "import numpy as np\n",
        "xs = [Variable(np.array(2)), Variable(np.array(3))]\n",
        "f = Add()\n",
        "ys = f(xs) # 신기하게 forward 함수를 호출 안했는데 실행이 되네??;;\n",
        "y = ys\n",
        "print(y.data)"
      ],
      "execution_count": null,
      "outputs": [
        {
          "output_type": "stream",
          "text": [
            "5\n"
          ],
          "name": "stdout"
        }
      ]
    },
    {
      "cell_type": "code",
      "metadata": {
        "id": "hPHTjEVPJEAa"
      },
      "source": [
        "# step 12 "
      ],
      "execution_count": null,
      "outputs": []
    },
    {
      "cell_type": "code",
      "metadata": {
        "id": "6g3bO8BnNTdA"
      },
      "source": [
        "# 다중 입력, 다중 출력을 위해 클래스 수정\n",
        "class Function : \n",
        "  def __call__(self, *inputs) : \n",
        "    xs = [x.data for x in inputs]\n",
        "    ys = self.forward(xs)\n",
        "    outputs = [Variable(as_array(y)) for y in ys]\n",
        "    for output in outputs : \n",
        "      output.set_creator(self)\n",
        "    self.inputs = inputs\n",
        "    self.outputs = outputs\n",
        "    return outputs if len(outputs) > 1 else outputs[0]\n",
        "\n",
        "  def forward(self, xs) :\n",
        "    raise NotImplementedError()\n",
        "\n",
        "  def backward(self, gys) :\n",
        "    raise NotImplementedError()"
      ],
      "execution_count": null,
      "outputs": []
    },
    {
      "cell_type": "code",
      "metadata": {
        "id": "s0xBXqICanfi"
      },
      "source": [
        "def f(*x) :\n",
        "  print(x)"
      ],
      "execution_count": null,
      "outputs": []
    },
    {
      "cell_type": "code",
      "metadata": {
        "colab": {
          "base_uri": "https://localhost:8080/"
        },
        "id": "IFpJkCbVauSG",
        "outputId": "a30927cb-5df9-466d-a0d7-e7569a5fb325"
      },
      "source": [
        "f(1,2,3)"
      ],
      "execution_count": null,
      "outputs": [
        {
          "output_type": "stream",
          "text": [
            "(1, 2, 3)\n"
          ],
          "name": "stdout"
        }
      ]
    },
    {
      "cell_type": "code",
      "metadata": {
        "id": "kqAI286da9tD"
      },
      "source": [
        "import numpy as np\n"
      ],
      "execution_count": null,
      "outputs": []
    },
    {
      "cell_type": "code",
      "metadata": {
        "colab": {
          "base_uri": "https://localhost:8080/"
        },
        "id": "OSuuQBsGavCW",
        "outputId": "1ba1d10e-5dc0-4781-ab9e-61fe5be511a6"
      },
      "source": [
        "x0 = Variable(np.array(2))\n",
        "x1 = Variable(np.array(3))\n",
        "f = Add()\n",
        "y = f(x0, x1)\n",
        "print(y.data)"
      ],
      "execution_count": null,
      "outputs": [
        {
          "output_type": "stream",
          "text": [
            "5\n"
          ],
          "name": "stdout"
        }
      ]
    },
    {
      "cell_type": "code",
      "metadata": {
        "id": "u3wTCQehbPIw"
      },
      "source": [
        "# 다중 입력, 다중 출력을 위해 클래스 수정\n",
        "class Function : \n",
        "  def __call__(self, *inputs) : \n",
        "    xs = [x.data for x in inputs]\n",
        "    ys = self.forward(*xs)\n",
        "    if not isinstance(ys, tuple) :\n",
        "      ys = (ys, )\n",
        "    outputs = [Variable(as_array(y)) for y in ys]\n",
        "    for output in outputs : \n",
        "      output.set_creator(self)\n",
        "    self.inputs = inputs\n",
        "    self.outputs = outputs\n",
        "    return outputs if len(outputs) > 1 else outputs[0]\n",
        "\n",
        "  def forward(self, xs) :\n",
        "    raise NotImplementedError()\n",
        "\n",
        "  def backward(self, gys) :\n",
        "    raise NotImplementedError()"
      ],
      "execution_count": 5,
      "outputs": []
    },
    {
      "cell_type": "code",
      "metadata": {
        "id": "7jmuYGCAa4v7"
      },
      "source": [
        "class Add(Function) :\n",
        "  def forward(self, x0, x1) :\n",
        "    y = x0 + x1\n",
        "    return y"
      ],
      "execution_count": null,
      "outputs": []
    },
    {
      "cell_type": "code",
      "metadata": {
        "id": "2ScUTPcGbsSt"
      },
      "source": [
        "def add(x0, x1) :\n",
        "  return Add()(x0, x1)"
      ],
      "execution_count": 11,
      "outputs": []
    },
    {
      "cell_type": "code",
      "metadata": {
        "colab": {
          "base_uri": "https://localhost:8080/"
        },
        "id": "NeJUVqIKb01t",
        "outputId": "eec7f69f-0bec-4152-ee2b-a09629a7ea12"
      },
      "source": [
        "x0 = Variable(np.array(2))\n",
        "x1 = Variable(np.array(3))\n",
        "\n",
        "y = add(x0, x1)\n",
        "\n",
        "print(y.data)"
      ],
      "execution_count": null,
      "outputs": [
        {
          "output_type": "stream",
          "text": [
            "5\n"
          ],
          "name": "stdout"
        }
      ]
    },
    {
      "cell_type": "code",
      "metadata": {
        "id": "kNR3kyv6b54M"
      },
      "source": [
        "# 4일차 : step 13"
      ],
      "execution_count": 1,
      "outputs": []
    },
    {
      "cell_type": "code",
      "metadata": {
        "id": "fihylvYNmVl8"
      },
      "source": [
        "class Add(Function) :\n",
        "  def forward(self, x0, x1) :\n",
        "    y = x0 + x1\n",
        "    return y\n",
        "  def backward(self, gy) :\n",
        "    return gy, gy"
      ],
      "execution_count": 6,
      "outputs": []
    },
    {
      "cell_type": "code",
      "metadata": {
        "id": "UgbR6hxnmdpG"
      },
      "source": [
        "class Variable :\n",
        "  def __init__(self, data) : \n",
        "    if data is not None : \n",
        "      if not isinstance(data, np.ndarray) :\n",
        "        #raise TypeError('{}은 지원하지 않습니다.'.format(type(data)))\n",
        "        raise TypeError(f'{data} {type(data)}은 지원하지 않습니다.')\n",
        "    self.data = data\n",
        "    self.grad = None\n",
        "    self.creator = None\n",
        "\n",
        "  def set_creator(self, func) :\n",
        "    self.creator = func\n",
        "\n",
        "  def backward(self) :\n",
        "    if self.grad is None :\n",
        "      self.grad = np.ones_like(self.data)\n",
        "      print('np.ones_like print', self.grad)\n",
        "\n",
        "    funcs = [self.creator]\n",
        "    while funcs :\n",
        "      f = funcs.pop()\n",
        "      gys = [output.grad for output in f.outputs]\n",
        "      gxs = f.backward(*gys)\n",
        "      if not isinstance(gxs, tuple) :\n",
        "        gxs = (gxs,)\n",
        "\n",
        "      for x, gx in zip(f.inputs, gxs) : \n",
        "        x.grad = gx\n",
        "        if x.creator is not None : \n",
        "          funcs.append(x.creator)"
      ],
      "execution_count": 4,
      "outputs": []
    },
    {
      "cell_type": "code",
      "metadata": {
        "id": "1Q2vHuUhpDsp"
      },
      "source": [
        "class Square(Function) :\n",
        "  def forward(self, x) :\n",
        "    y = x ** 2\n",
        "    return y\n",
        "\n",
        "  def backward(self, gy) :\n",
        "    x = self.inputs[0].data\n",
        "    gx = 2 * x * gy\n",
        "    return gx"
      ],
      "execution_count": 8,
      "outputs": []
    },
    {
      "cell_type": "code",
      "metadata": {
        "id": "H872nZcLrD3_"
      },
      "source": [
        "def as_array(x) :\n",
        "  if np.isscalar(x) :\n",
        "    return np.array(x)\n",
        "  return x\n",
        "\n",
        "def add(x0, x1) :\n",
        "  return Add()(x0, x1)\n",
        "\n",
        "def square(x) :\n",
        "  return Square()(x)\n",
        "\n",
        "def exp(x) :\n",
        "  return Exp()(x)\n"
      ],
      "execution_count": null,
      "outputs": []
    },
    {
      "cell_type": "code",
      "metadata": {
        "colab": {
          "base_uri": "https://localhost:8080/"
        },
        "id": "swM9Ve9Yp4os",
        "outputId": "c5219c60-259d-4c6a-a6d3-053a99f0c5d2"
      },
      "source": [
        "import numpy as np\n",
        "x = Variable(np.array(2.0))\n",
        "y = Variable(np.array(3.0))\n",
        "\n",
        "z = add(square(x), square(y))\n",
        "z.backward()\n",
        "print(z.data)\n",
        "print(x.grad)\n",
        "print(y.grad)"
      ],
      "execution_count": 16,
      "outputs": [
        {
          "output_type": "stream",
          "text": [
            "np.ones_like print 1.0\n",
            "13.0\n",
            "4.0\n",
            "6.0\n"
          ],
          "name": "stdout"
        }
      ]
    },
    {
      "cell_type": "code",
      "metadata": {
        "id": "IO9vvbOeqM4t"
      },
      "source": [
        "# step 14"
      ],
      "execution_count": 17,
      "outputs": []
    },
    {
      "cell_type": "code",
      "metadata": {
        "id": "s8V8WKnZq8pL"
      },
      "source": [
        "class Variable :\n",
        "  def __init__(self, data) : \n",
        "    if data is not None : \n",
        "      if not isinstance(data, np.ndarray) :\n",
        "        #raise TypeError('{}은 지원하지 않습니다.'.format(type(data)))\n",
        "        raise TypeError(f'{data} {type(data)}은 지원하지 않습니다.')\n",
        "    self.data = data\n",
        "    self.grad = None\n",
        "    self.creator = None\n",
        "\n",
        "  def set_creator(self, func) :\n",
        "    self.creator = func\n",
        "\n",
        "  def backward(self) :\n",
        "    if self.grad is None :\n",
        "      self.grad = np.ones_like(self.data)\n",
        "      print('np.ones_like print', self.grad)\n",
        "\n",
        "    funcs = [self.creator]\n",
        "    while funcs :\n",
        "      f = funcs.pop()\n",
        "      gys = [output.grad for output in f.outputs]\n",
        "      gxs = f.backward(*gys)\n",
        "      if not isinstance(gxs, tuple) :\n",
        "        gxs = (gxs,)\n",
        "\n",
        "      for x, gx in zip(f.inputs, gxs) : \n",
        "        if x.grad is None :\n",
        "          x.grad = gx\n",
        "        else : \n",
        "          x.grad = x.grad + gx\n",
        "        if x.creator is not None : \n",
        "          funcs.append(x.creator)"
      ],
      "execution_count": 20,
      "outputs": []
    },
    {
      "cell_type": "code",
      "metadata": {
        "colab": {
          "base_uri": "https://localhost:8080/"
        },
        "id": "yVLV2bvdreaB",
        "outputId": "86461391-bef4-4ce9-cfbb-75009d079aeb"
      },
      "source": [
        "x = Variable(np.array(3.0))\n",
        "y = add(x, x)\n",
        "y.backward()\n",
        "print(x.grad)"
      ],
      "execution_count": 21,
      "outputs": [
        {
          "output_type": "stream",
          "text": [
            "np.ones_like print 1.0\n",
            "2.0\n"
          ],
          "name": "stdout"
        }
      ]
    },
    {
      "cell_type": "code",
      "metadata": {
        "colab": {
          "base_uri": "https://localhost:8080/"
        },
        "id": "Xwfj6077sJqE",
        "outputId": "621f578c-7f46-4054-de15-ba2e10813d61"
      },
      "source": [
        "x = Variable(np.array(3.0))\n",
        "y = add(add(x,x),x)\n",
        "y.backward()\n",
        "print(x.grad)"
      ],
      "execution_count": 22,
      "outputs": [
        {
          "output_type": "stream",
          "text": [
            "np.ones_like print 1.0\n",
            "3.0\n"
          ],
          "name": "stdout"
        }
      ]
    },
    {
      "cell_type": "code",
      "metadata": {
        "id": "u3eFIkGvsQ23"
      },
      "source": [
        "class Variable :\n",
        "  def __init__(self, data) : \n",
        "    if data is not None : \n",
        "      if not isinstance(data, np.ndarray) :\n",
        "        #raise TypeError('{}은 지원하지 않습니다.'.format(type(data)))\n",
        "        raise TypeError(f'{data} {type(data)}은 지원하지 않습니다.')\n",
        "    self.data = data\n",
        "    self.grad = None\n",
        "    self.creator = None\n",
        "\n",
        "  def set_creator(self, func) :\n",
        "    self.creator = func\n",
        "\n",
        "  def backward(self) :\n",
        "    if self.grad is None :\n",
        "      self.grad = np.ones_like(self.data)\n",
        "      print('np.ones_like print', self.grad)\n",
        "\n",
        "    funcs = [self.creator]\n",
        "    while funcs :\n",
        "      f = funcs.pop()\n",
        "      gys = [output.grad for output in f.outputs]\n",
        "      gxs = f.backward(*gys)\n",
        "      if not isinstance(gxs, tuple) :\n",
        "        gxs = (gxs,)\n",
        "\n",
        "      for x, gx in zip(f.inputs, gxs) : \n",
        "        if x.grad is None :\n",
        "          x.grad = gx\n",
        "        else : \n",
        "          x.grad = x.grad + gx\n",
        "        if x.creator is not None : \n",
        "          funcs.append(x.creator)\n",
        "  def cleargrad(self) :\n",
        "    self.grad = None"
      ],
      "execution_count": 23,
      "outputs": []
    },
    {
      "cell_type": "code",
      "metadata": {
        "colab": {
          "base_uri": "https://localhost:8080/"
        },
        "id": "p5DwbHdZsrJM",
        "outputId": "62223702-b5db-49ea-d7a7-d84763e05552"
      },
      "source": [
        "x = Variable(np.array(3.0))\n",
        "y = add(x,x)\n",
        "y.backward()\n",
        "print(x.grad)\n",
        "\n",
        "x.cleargrad()\n",
        "y = add(add(x,x),x)\n",
        "y.backward()\n",
        "print(x.grad)"
      ],
      "execution_count": 26,
      "outputs": [
        {
          "output_type": "stream",
          "text": [
            "np.ones_like print 1.0\n",
            "2.0\n",
            "np.ones_like print 1.0\n",
            "3.0\n"
          ],
          "name": "stdout"
        }
      ]
    },
    {
      "cell_type": "code",
      "metadata": {
        "id": "NiAt4QJWsxCF"
      },
      "source": [
        ""
      ],
      "execution_count": null,
      "outputs": []
    }
  ]
}