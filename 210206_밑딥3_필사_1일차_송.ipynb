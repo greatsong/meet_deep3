{
  "nbformat": 4,
  "nbformat_minor": 0,
  "metadata": {
    "colab": {
      "name": "210206_밑딥3 필사 1일차.ipynb",
      "provenance": [],
      "authorship_tag": "ABX9TyPKRYkc0+3UNp114yRwnxDy",
      "include_colab_link": true
    },
    "kernelspec": {
      "name": "python3",
      "display_name": "Python 3"
    }
  },
  "cells": [
    {
      "cell_type": "markdown",
      "metadata": {
        "id": "view-in-github",
        "colab_type": "text"
      },
      "source": [
        "<a href=\"https://colab.research.google.com/github/greatsong/meet_deep3/blob/main/210206_%EB%B0%91%EB%94%A53_%ED%95%84%EC%82%AC_1%EC%9D%BC%EC%B0%A8_%EC%86%A1.ipynb\" target=\"_parent\"><img src=\"https://colab.research.google.com/assets/colab-badge.svg\" alt=\"Open In Colab\"/></a>"
      ]
    },
    {
      "cell_type": "code",
      "metadata": {
        "id": "AKKd6-PrzlFE"
      },
      "source": [
        "# step 1"
      ],
      "execution_count": null,
      "outputs": []
    },
    {
      "cell_type": "code",
      "metadata": {
        "id": "H_SC3P-6wljr"
      },
      "source": [
        "class Variable : \n",
        "  def __init__(self, data) :\n",
        "    self.data = data"
      ],
      "execution_count": 1,
      "outputs": []
    },
    {
      "cell_type": "code",
      "metadata": {
        "colab": {
          "base_uri": "https://localhost:8080/"
        },
        "id": "U1SEMWndw9ej",
        "outputId": "d442c5d9-ce5c-4d40-9ba2-f2244e2a95c6"
      },
      "source": [
        "import numpy as np\n",
        "data = np.array(1.0)\n",
        "x = Variable(data)\n",
        "print(x.data)"
      ],
      "execution_count": 2,
      "outputs": [
        {
          "output_type": "stream",
          "text": [
            "1.0\n"
          ],
          "name": "stdout"
        }
      ]
    },
    {
      "cell_type": "code",
      "metadata": {
        "colab": {
          "base_uri": "https://localhost:8080/"
        },
        "id": "IfyvuBsKxFmG",
        "outputId": "495ec11c-0da1-4cc8-8ca3-939c3654f1be"
      },
      "source": [
        "x.data  = np.array(2)\n",
        "print(x.data)"
      ],
      "execution_count": 4,
      "outputs": [
        {
          "output_type": "stream",
          "text": [
            "2\n"
          ],
          "name": "stdout"
        }
      ]
    },
    {
      "cell_type": "code",
      "metadata": {
        "colab": {
          "base_uri": "https://localhost:8080/"
        },
        "id": "To7FPpymxIzZ",
        "outputId": "7a10d865-2585-4186-dd54-06965de309b7"
      },
      "source": [
        "import numpy as np\n",
        "x = np.array(1)\n",
        "x.ndim"
      ],
      "execution_count": 6,
      "outputs": [
        {
          "output_type": "execute_result",
          "data": {
            "text/plain": [
              "0"
            ]
          },
          "metadata": {
            "tags": []
          },
          "execution_count": 6
        }
      ]
    },
    {
      "cell_type": "code",
      "metadata": {
        "colab": {
          "base_uri": "https://localhost:8080/"
        },
        "id": "lvLuIssBxOsU",
        "outputId": "df7cbbbf-e71d-4be3-a35a-037174efc4d9"
      },
      "source": [
        "x = np.array([1,2,3])\n",
        "x.ndim"
      ],
      "execution_count": 7,
      "outputs": [
        {
          "output_type": "execute_result",
          "data": {
            "text/plain": [
              "1"
            ]
          },
          "metadata": {
            "tags": []
          },
          "execution_count": 7
        }
      ]
    },
    {
      "cell_type": "code",
      "metadata": {
        "colab": {
          "base_uri": "https://localhost:8080/"
        },
        "id": "LwtCd-rExTBh",
        "outputId": "3a8b4315-ce2c-4134-f409-1627de409f96"
      },
      "source": [
        "x = np.array([[1,2,3],\n",
        "             [4,5,6]])\n",
        "x.ndim"
      ],
      "execution_count": 9,
      "outputs": [
        {
          "output_type": "execute_result",
          "data": {
            "text/plain": [
              "2"
            ]
          },
          "metadata": {
            "tags": []
          },
          "execution_count": 9
        }
      ]
    },
    {
      "cell_type": "code",
      "metadata": {
        "id": "Ob6hg7IGxVtY"
      },
      "source": [
        "# step 2"
      ],
      "execution_count": null,
      "outputs": []
    },
    {
      "cell_type": "code",
      "metadata": {
        "id": "5MQTzieqznFS"
      },
      "source": [
        "class Function :\n",
        "  def __call__(self, input) : \n",
        "    x = input.data\n",
        "    y = x ** 2\n",
        "    output = Variable(y)\n",
        "    return output"
      ],
      "execution_count": 10,
      "outputs": []
    },
    {
      "cell_type": "code",
      "metadata": {
        "id": "AH_NSWdHznIE"
      },
      "source": [
        "x = Variable(np.array(10))\n",
        "f = Function()\n",
        "y = f(x)"
      ],
      "execution_count": 11,
      "outputs": []
    },
    {
      "cell_type": "code",
      "metadata": {
        "colab": {
          "base_uri": "https://localhost:8080/"
        },
        "id": "W13UXwJVznKu",
        "outputId": "818dd07a-d915-4d2c-bbcd-3a3766256957"
      },
      "source": [
        "print(type(y))\n",
        "print(y.data)"
      ],
      "execution_count": 12,
      "outputs": [
        {
          "output_type": "stream",
          "text": [
            "<class '__main__.Variable'>\n",
            "100\n"
          ],
          "name": "stdout"
        }
      ]
    },
    {
      "cell_type": "code",
      "metadata": {
        "id": "rLAQ86FGznNV"
      },
      "source": [
        "class Function :\n",
        "  def __call__(self, input) : \n",
        "    x = input.data\n",
        "    y = self.forward(x)\n",
        "    output = Variable(y)\n",
        "    return output\n",
        "  def forward(self, x) :\n",
        "    raise NotImplementedError()"
      ],
      "execution_count": 14,
      "outputs": []
    },
    {
      "cell_type": "code",
      "metadata": {
        "id": "SK4u-Oa4znP8"
      },
      "source": [
        "class Square(Function) :\n",
        "  def forward(self, x ) :\n",
        "    return x ** 2"
      ],
      "execution_count": 15,
      "outputs": []
    },
    {
      "cell_type": "code",
      "metadata": {
        "colab": {
          "base_uri": "https://localhost:8080/"
        },
        "id": "IHoOP0mlznSM",
        "outputId": "82cc2e50-236d-4a0f-f70e-eb1cb448f43d"
      },
      "source": [
        "x = Variable(np.array(10))\n",
        "f = Square()\n",
        "y = f(x)\n",
        "print(type(y))\n",
        "print(y.data)"
      ],
      "execution_count": 16,
      "outputs": [
        {
          "output_type": "stream",
          "text": [
            "<class '__main__.Variable'>\n",
            "100\n"
          ],
          "name": "stdout"
        }
      ]
    },
    {
      "cell_type": "code",
      "metadata": {
        "id": "LcERPSoCznUq"
      },
      "source": [
        "# step 3"
      ],
      "execution_count": 17,
      "outputs": []
    },
    {
      "cell_type": "code",
      "metadata": {
        "id": "lvXCGiIrznXN"
      },
      "source": [
        "class Exp(Function) :\n",
        "  def forward(self, x) :\n",
        "    return np.exp(x)"
      ],
      "execution_count": 18,
      "outputs": []
    },
    {
      "cell_type": "code",
      "metadata": {
        "colab": {
          "base_uri": "https://localhost:8080/"
        },
        "id": "0FbuYLLSznZf",
        "outputId": "b29e415e-ae00-4454-e20c-37581086ae61"
      },
      "source": [
        "A = Square()\n",
        "B = Exp()\n",
        "C = Square()\n",
        "\n",
        "x = Variable(np.array(0.5))\n",
        "a = A(x)\n",
        "b = B(a)\n",
        "y = C(b)\n",
        "\n",
        "print(y.data)"
      ],
      "execution_count": 19,
      "outputs": [
        {
          "output_type": "stream",
          "text": [
            "1.648721270700128\n"
          ],
          "name": "stdout"
        }
      ]
    },
    {
      "cell_type": "code",
      "metadata": {
        "id": "5YVQFPiF0oJr"
      },
      "source": [
        "# step 4"
      ],
      "execution_count": 20,
      "outputs": []
    },
    {
      "cell_type": "code",
      "metadata": {
        "id": "o8Le2mQM3gru"
      },
      "source": [
        "def numerical_diff(f, x, eps = 1e-4) :\n",
        "  x0 = Variable(x.data - eps)\n",
        "  x1 = Variable(x.data + eps)\n",
        "  y0 = f(x0)\n",
        "  y1 = f(x1)\n",
        "  return (y1.data - y0.data) / (2 * eps)"
      ],
      "execution_count": 21,
      "outputs": []
    },
    {
      "cell_type": "code",
      "metadata": {
        "colab": {
          "base_uri": "https://localhost:8080/"
        },
        "id": "ldMDco7o3tu0",
        "outputId": "04d154be-2611-4815-da62-b6898f7ac8be"
      },
      "source": [
        "f = Square()\n",
        "x = Variable(np.array(2))\n",
        "dy = numerical_diff(f, x)\n",
        "print(dy)"
      ],
      "execution_count": 22,
      "outputs": [
        {
          "output_type": "stream",
          "text": [
            "4.000000000004\n"
          ],
          "name": "stdout"
        }
      ]
    },
    {
      "cell_type": "code",
      "metadata": {
        "colab": {
          "base_uri": "https://localhost:8080/"
        },
        "id": "ELh8u8GB3ya3",
        "outputId": "9e999d6f-1d31-4030-f046-c46f2c59a656"
      },
      "source": [
        "def f(x) :\n",
        "  A = Square()\n",
        "  B = Exp()\n",
        "  C = Square()\n",
        "  return C(B(A(x)))\n",
        "\n",
        "x = Variable(np.array(0.5))\n",
        "dy = numerical_diff(f, x)\n",
        "print(dy)"
      ],
      "execution_count": 23,
      "outputs": [
        {
          "output_type": "stream",
          "text": [
            "3.2974426293330694\n"
          ],
          "name": "stdout"
        }
      ]
    },
    {
      "cell_type": "code",
      "metadata": {
        "id": "qi0-2xI54Cuo"
      },
      "source": [
        "# step 5"
      ],
      "execution_count": 24,
      "outputs": []
    },
    {
      "cell_type": "code",
      "metadata": {
        "id": "fQEB0vNb4I_3"
      },
      "source": [
        "# step 6"
      ],
      "execution_count": 25,
      "outputs": []
    },
    {
      "cell_type": "code",
      "metadata": {
        "id": "XqPtDFmp4MSU"
      },
      "source": [
        "class Variable :\n",
        "  def __init__(self, data) : \n",
        "    self.data = data\n",
        "    self.grad = None"
      ],
      "execution_count": 26,
      "outputs": []
    },
    {
      "cell_type": "code",
      "metadata": {
        "id": "unPaGHfr4TLb"
      },
      "source": [
        "class Function : \n",
        "  def __call__(self, input) : \n",
        "    x = input.data\n",
        "    y = self.forward(x)\n",
        "    output = Variable(y)\n",
        "    self.input = input\n",
        "    return output\n",
        "\n",
        "  def forward(self, x) :\n",
        "    raise NotImplementedError()\n",
        "\n",
        "  def backward(self, gy) :\n",
        "    raise NotImplementedError()"
      ],
      "execution_count": 27,
      "outputs": []
    },
    {
      "cell_type": "code",
      "metadata": {
        "id": "FIT4CnHu4k_X"
      },
      "source": [
        "class Square(Function) :\n",
        "  def forward(self, x) :\n",
        "    y = x ** 2\n",
        "    return y\n",
        "\n",
        "  def backward(self, gy) :\n",
        "    x = self.input.data\n",
        "    gx = 2 * x * gy\n",
        "    return gx"
      ],
      "execution_count": 62,
      "outputs": []
    },
    {
      "cell_type": "code",
      "metadata": {
        "id": "lMV-t5ZI4vlk"
      },
      "source": [
        "class Exp(Function) :\n",
        "  def forward(self, x) :\n",
        "    y = np.exp(x)\n",
        "    return y\n",
        "\n",
        "  def backward(self, gy) : \n",
        "    x = self.input.data\n",
        "    gx = np.exp(x) * gy\n",
        "    return gx"
      ],
      "execution_count": 63,
      "outputs": []
    },
    {
      "cell_type": "code",
      "metadata": {
        "id": "LeQElsP_4_Ha"
      },
      "source": [
        "A = Square()\n",
        "B = Exp()\n",
        "C = Square()\n",
        "\n",
        "x = Variable(np.array(0.5))\n",
        "a = A(x)\n",
        "b = B(a)\n",
        "y = C(b)"
      ],
      "execution_count": 34,
      "outputs": []
    },
    {
      "cell_type": "code",
      "metadata": {
        "colab": {
          "base_uri": "https://localhost:8080/"
        },
        "id": "AwH1Iqs95Fv3",
        "outputId": "aee5ab8b-7078-4396-833d-c58bc35d1203"
      },
      "source": [
        "y.grad = np.array(1)\n",
        "b.grad = C.backward(y.grad)\n",
        "a.grad = B.backward(b.grad)\n",
        "x.grad = A.backward(a.grad)\n",
        "\n",
        "print(x.grad)"
      ],
      "execution_count": 35,
      "outputs": [
        {
          "output_type": "stream",
          "text": [
            "3.297442541400256\n"
          ],
          "name": "stdout"
        }
      ]
    },
    {
      "cell_type": "code",
      "metadata": {
        "id": "NpIpAQZe5S7G"
      },
      "source": [
        "# step 7"
      ],
      "execution_count": 36,
      "outputs": []
    },
    {
      "cell_type": "code",
      "metadata": {
        "id": "UgKx5shI5xT4"
      },
      "source": [
        "class Variable :\n",
        "  def __init__(self, data) : \n",
        "    self.data = data\n",
        "    self.grad = None\n",
        "    self.creator = None\n",
        "\n",
        "  def set_creator(self, func) :\n",
        "    self.creator = func"
      ],
      "execution_count": 43,
      "outputs": []
    },
    {
      "cell_type": "code",
      "metadata": {
        "id": "NyXm6CO555bj"
      },
      "source": [
        "class Function : \n",
        "  def __call__(self, input) : \n",
        "    x = input.data\n",
        "    y = self.forward(x)\n",
        "    output = Variable(y)\n",
        "    output.set_creator(self)\n",
        "    self.input = input\n",
        "    self.output = output\n",
        "    return output\n",
        "\n",
        "  def forward(self, x) :\n",
        "    raise NotImplementedError()\n",
        "\n",
        "  def backward(self, gy) :\n",
        "    raise NotImplementedError()"
      ],
      "execution_count": 48,
      "outputs": []
    },
    {
      "cell_type": "code",
      "metadata": {
        "id": "2n0hbA2F6MWP"
      },
      "source": [
        "# 그냥 실행하면 오류가 발생 / 왜냐하면 스퀘어, 지수 함수가 업데이트 안되어서!\n",
        "A = Square()\n",
        "B = Exp()\n",
        "C = Square()\n",
        "\n",
        "x = Variable(np.array(0.5))\n",
        "a = A(x)\n",
        "b = B(a)\n",
        "y = C(b)"
      ],
      "execution_count": 55,
      "outputs": []
    },
    {
      "cell_type": "code",
      "metadata": {
        "id": "Blkmh6uQ6Sye"
      },
      "source": [
        "assert y.creator == C"
      ],
      "execution_count": 56,
      "outputs": []
    },
    {
      "cell_type": "code",
      "metadata": {
        "colab": {
          "base_uri": "https://localhost:8080/"
        },
        "id": "x54-TDyr6U_N",
        "outputId": "a8854880-f08e-406e-8624-cde7d7da68ed"
      },
      "source": [
        "print(a.creator)"
      ],
      "execution_count": 57,
      "outputs": [
        {
          "output_type": "stream",
          "text": [
            "<__main__.Square object at 0x7f51c8a075f8>\n"
          ],
          "name": "stdout"
        }
      ]
    },
    {
      "cell_type": "code",
      "metadata": {
        "id": "mDpuh5Ql6dVi"
      },
      "source": [
        "y.grad = np.array(1)\n",
        "\n",
        "C = y.creator\n",
        "b = C.input\n",
        "b.grad = C.backward(y.grad)"
      ],
      "execution_count": 58,
      "outputs": []
    },
    {
      "cell_type": "code",
      "metadata": {
        "id": "BrHHylei7Vxy"
      },
      "source": [
        "B = b.creator\n",
        "a = B.input\n",
        "a.grad = B.backward(b.grad)"
      ],
      "execution_count": 59,
      "outputs": []
    },
    {
      "cell_type": "code",
      "metadata": {
        "colab": {
          "base_uri": "https://localhost:8080/"
        },
        "id": "QXmXWDbB7wtF",
        "outputId": "0eb9e8db-0be8-49af-f614-5c84832e1a30"
      },
      "source": [
        "A = a.creator\n",
        "x = A.input\n",
        "x.grad = A.backward(a.grad)\n",
        "print(x.grad)"
      ],
      "execution_count": 60,
      "outputs": [
        {
          "output_type": "stream",
          "text": [
            "3.297442541400256\n"
          ],
          "name": "stdout"
        }
      ]
    },
    {
      "cell_type": "code",
      "metadata": {
        "id": "XfzaHyf872jR"
      },
      "source": [
        "class Variable :\n",
        "  def __init__(self, data) : \n",
        "    self.data = data\n",
        "    self.grad = None\n",
        "    self.creator = None\n",
        "\n",
        "  def set_creator(self, func) :\n",
        "    self.creator = func\n",
        "\n",
        "  def backward(self) :\n",
        "    f = self.creator\n",
        "    if f is not None : \n",
        "      x = f.input\n",
        "      x.grad = f.backward(self.grad)\n",
        "      # 중간 과정 확인하기 위한 print 추가\n",
        "      print(f, x.grad)\n",
        "      x.backward()"
      ],
      "execution_count": 65,
      "outputs": []
    },
    {
      "cell_type": "code",
      "metadata": {
        "colab": {
          "base_uri": "https://localhost:8080/"
        },
        "id": "A7f47AvF8OqX",
        "outputId": "4b21b766-f1a5-4280-f05f-fd0c58a6d6d2"
      },
      "source": [
        "A = Square()\n",
        "B = Exp()\n",
        "C = Square()\n",
        "\n",
        "x = Variable(np.array(0.5))\n",
        "a = A(x)\n",
        "b = B(a)\n",
        "y = C(b)\n",
        "\n",
        "y.grad = np.array(1)\n",
        "y.backward()\n",
        "print(x.grad)"
      ],
      "execution_count": 66,
      "outputs": [
        {
          "output_type": "stream",
          "text": [
            "<__main__.Square object at 0x7f51c8a07390> 2.568050833375483\n",
            "<__main__.Exp object at 0x7f51c8a071d0> 3.297442541400256\n",
            "<__main__.Square object at 0x7f51c8a07240> 3.297442541400256\n",
            "3.297442541400256\n"
          ],
          "name": "stdout"
        }
      ]
    },
    {
      "cell_type": "code",
      "metadata": {
        "id": "KDb7rQoc8ZcY"
      },
      "source": [
        ""
      ],
      "execution_count": null,
      "outputs": []
    }
  ]
}